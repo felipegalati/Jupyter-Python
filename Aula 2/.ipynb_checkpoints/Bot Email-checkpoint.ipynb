{
 "cells": [
  {
   "cell_type": "code",
   "execution_count": 39,
   "id": "70a82ac0",
   "metadata": {},
   "outputs": [
    {
     "name": "stdout",
     "output_type": "stream",
     "text": [
      "digite o código da ação: PETR4.SA\n",
      "33.003028869628906\n",
      "18.730594635009766\n",
      "25.639999389648438\n",
      "digite o email que deseja enviar: felipegalati20@gmail.com\n",
      "E-mail enviado com sucesso!\n"
     ]
    }
   ],
   "source": [
    "import pyautogui\n",
    "import pyperclip\n",
    "import yfinance\n",
    "ticker = input(\"digite o código da ação: \")\n",
    "dados = yfinance.Ticker(ticker)\n",
    "tabela = dados.history(\"6mo\")\n",
    "fechamento = tabela.Close\n",
    "\n",
    "maxima = fechamento.max()\n",
    "minima = fechamento.min()\n",
    "atual = fechamento[-1]\n",
    "\n",
    "destinatario = \"seuemail@gmail.com\"\n",
    "assunto = \"Análise diária\"\n",
    "mensagem = f\"\"\"\n",
    "Bom dia,\n",
    "Segue abaixo as análises da ação {ticker} dos últimos seis meses:\n",
    "Cotação máxima: R${round(maxima,2)}\n",
    "Cotação mínima: R${round(minima,2)}\n",
    "Cotação atual: R${round(atual,2)}\n",
    "Atenciosamente,\n",
    "Nome.\n",
    "\"\"\"\n",
    "\n",
    "pyautogui.PAUSE = 4\n",
    "\n",
    "pyautogui.hotkey(\"ctrl\", \"t\")\n",
    "\n",
    "pyperclip.copy(\"www.gmail.com\")\n",
    "\n",
    "pyautogui.hotkey(\"ctrl\", \"v\")\n",
    "pyautogui.press(\"enter\")\n",
    "\n",
    "pyautogui.click(x=88, y=167)\n",
    "pyperclip.copy(email)\n",
    "pyautogui.hotkey(\"ctrl\", \"v\")\n",
    "pyautogui.press(\"tab\")\n",
    "\n",
    "pyperclip.copy(assunto)\n",
    "pyautogui.hotkey(\"ctrl\", \"v\")\n",
    "pyautogui.press(\"tab\")\n",
    "\n",
    "pyperclip.copy(mensagem)\n",
    "pyautogui.hotkey(\"ctrl\", \"v\")\n",
    "pyautogui.click(x=847, y=701)\n",
    "\n",
    "print('E-mail enviado com sucesso!')\n",
    "\n",
    "\n"
   ]
  },
  {
   "cell_type": "code",
   "execution_count": 29,
   "id": "90b1400c",
   "metadata": {},
   "outputs": [
    {
     "data": {
      "text/plain": [
       "Point(x=847, y=701)"
      ]
     },
     "execution_count": 29,
     "metadata": {},
     "output_type": "execute_result"
    }
   ],
   "source": [
    "#descobrir a posição do ponteiro do mouse tire as # abaixo\n",
    "\n",
    "#import time\n",
    "#time.sleep(5)\n",
    "#pyautogui.position()\n"
   ]
  },
  {
   "cell_type": "code",
   "execution_count": null,
   "id": "bd169612",
   "metadata": {},
   "outputs": [],
   "source": []
  }
 ],
 "metadata": {
  "kernelspec": {
   "display_name": "Python 3 (ipykernel)",
   "language": "python",
   "name": "python3"
  },
  "language_info": {
   "codemirror_mode": {
    "name": "ipython",
    "version": 3
   },
   "file_extension": ".py",
   "mimetype": "text/x-python",
   "name": "python",
   "nbconvert_exporter": "python",
   "pygments_lexer": "ipython3",
   "version": "3.9.13"
  }
 },
 "nbformat": 4,
 "nbformat_minor": 5
}
